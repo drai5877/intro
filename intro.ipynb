{
  "nbformat": 4,
  "nbformat_minor": 0,
  "metadata": {
    "colab": {
      "provenance": []
    },
    "kernelspec": {
      "name": "python3",
      "display_name": "Python 3"
    },
    "language_info": {
      "name": "python"
    }
  },
  "cells": [
    {
      "cell_type": "code",
      "execution_count": null,
      "metadata": {
        "id": "pP9AHMFmxIeI"
      },
      "outputs": [],
      "source": []
    },
    {
      "cell_type": "markdown",
      "source": [
        "#introduction\n",
        "1. introduce your self\n",
        "    -  my name is deepak\n",
        "    - from azamgarh\n",
        "    - passed graduation thuis year"
      ],
      "metadata": {
        "id": "KfzyRIi7xxEW"
      }
    }
  ]
}